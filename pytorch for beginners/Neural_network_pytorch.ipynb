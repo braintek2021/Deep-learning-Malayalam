{
  "nbformat": 4,
  "nbformat_minor": 0,
  "metadata": {
    "colab": {
      "provenance": []
    },
    "kernelspec": {
      "name": "python3",
      "display_name": "Python 3"
    },
    "language_info": {
      "name": "python"
    }
  },
  "cells": [
    {
      "cell_type": "markdown",
      "source": [
        "#Build a Simple Neural Network Using PyTorch"
      ],
      "metadata": {
        "id": "c3jz_2VSDQRJ"
      }
    },
    {
      "cell_type": "code",
      "source": [
        "import torch\n",
        "import torch.nn as nn"
      ],
      "metadata": {
        "id": "uDQlGcPDDZOR"
      },
      "execution_count": null,
      "outputs": []
    },
    {
      "cell_type": "markdown",
      "source": [
        "### Get Device for Training\n",
        "We want to be able to train our model on a hardware accelerator like the GPU, if it is available. Let’s check to see if torch.cuda is available, else we continue to use the CPU."
      ],
      "metadata": {
        "id": "rAbHTigYGSsJ"
      }
    },
    {
      "cell_type": "code",
      "source": [
        "device = \"cuda\" if torch.cuda.is_available() else \"cpu\"\n",
        "print(f\"Using {device} device\")"
      ],
      "metadata": {
        "colab": {
          "base_uri": "https://localhost:8080/"
        },
        "id": "kTNDij8vGNtx",
        "outputId": "595fd89d-bc18-4fbc-f94e-0cb7f47375a8"
      },
      "execution_count": null,
      "outputs": [
        {
          "output_type": "stream",
          "name": "stdout",
          "text": [
            "Using cpu device\n"
          ]
        }
      ]
    },
    {
      "cell_type": "markdown",
      "source": [
        "### Data Preparation\n",
        "\n",
        "Now we will define variables like input size, hidden unit, output size, batch size, and the learning rate."
      ],
      "metadata": {
        "id": "Q7T-WHZUDgsJ"
      }
    },
    {
      "cell_type": "code",
      "source": [
        "n_input, n_hidden, n_out, batch_size, learning_rate = 10, 15, 1, 100, 0.01"
      ],
      "metadata": {
        "id": "PE_-zfvJDZ5G"
      },
      "execution_count": null,
      "outputs": []
    },
    {
      "cell_type": "markdown",
      "source": [
        "We will now randomly initialize the dummy input and the output target data (or tensor)as follows:\n",
        "\n"
      ],
      "metadata": {
        "id": "-WYDfD8uECzp"
      }
    },
    {
      "cell_type": "code",
      "source": [
        "data_x = torch.randn(batch_size, n_input)\n",
        "data_y = (torch.rand(size=(batch_size, 1)) < 0.5).float()"
      ],
      "metadata": {
        "id": "sLTU3DsyD3J1"
      },
      "execution_count": null,
      "outputs": []
    },
    {
      "cell_type": "markdown",
      "source": [
        "We initialized the input data with 100 data samples with 10 features each and respectively initialized the output data with 100 data points."
      ],
      "metadata": {
        "id": "HHnyMrGWEVZp"
      }
    },
    {
      "cell_type": "code",
      "source": [
        "print(data_x.size())\n",
        "print(data_y.size())\n"
      ],
      "metadata": {
        "colab": {
          "base_uri": "https://localhost:8080/"
        },
        "id": "S4_IxfmVELUJ",
        "outputId": "dcf6caf8-26f6-4ce7-b02a-c8d60dcc1241"
      },
      "execution_count": null,
      "outputs": [
        {
          "output_type": "stream",
          "name": "stdout",
          "text": [
            "torch.Size([100, 10])\n",
            "torch.Size([100, 1])\n"
          ]
        }
      ]
    },
    {
      "cell_type": "markdown",
      "source": [
        "### Define Neural Network Model\n",
        "\n",
        "Using in-built functions, we will create the simple sequential model with output sigmoid layer as follows:"
      ],
      "metadata": {
        "id": "KTpeOTAvEhax"
      }
    },
    {
      "cell_type": "code",
      "source": [
        "class NeuralNetwork(nn.Module):\n",
        "    def __init__(self):\n",
        "        super().__init__()\n",
        "        self.linear_relu_stack = nn.Sequential(nn.Linear(n_input, n_hidden),\n",
        "                      nn.ReLU(),\n",
        "                      nn.Linear(n_hidden, n_out),\n",
        "                      nn.Sigmoid())\n",
        "\n",
        "    def forward(self, x):\n",
        "        logits = self.linear_relu_stack(x)\n",
        "        return logits"
      ],
      "metadata": {
        "id": "CshLBZqsF3Dh"
      },
      "execution_count": null,
      "outputs": []
    },
    {
      "cell_type": "markdown",
      "source": [
        "We create an instance of NeuralNetwork, and move it to the device, and print its structure."
      ],
      "metadata": {
        "id": "OJ5rCPm1HCKF"
      }
    },
    {
      "cell_type": "code",
      "source": [
        "Model = NeuralNetwork().to(device)\n",
        "print(Model)"
      ],
      "metadata": {
        "colab": {
          "base_uri": "https://localhost:8080/"
        },
        "id": "6vVijNsjG-GH",
        "outputId": "6ea97396-58aa-4d40-81aa-a35e89744227"
      },
      "execution_count": null,
      "outputs": [
        {
          "output_type": "stream",
          "name": "stdout",
          "text": [
            "NeuralNetwork(\n",
            "  (linear_relu_stack): Sequential(\n",
            "    (0): Linear(in_features=10, out_features=15, bias=True)\n",
            "    (1): ReLU()\n",
            "    (2): Linear(in_features=15, out_features=1, bias=True)\n",
            "    (3): Sigmoid()\n",
            "  )\n",
            ")\n"
          ]
        }
      ]
    },
    {
      "cell_type": "markdown",
      "source": [
        "Next, we will define the loss function and the optimizer for gradient descent. Under the nn package, there are several different loss function. Here we will usenn.MSELoss as the loss function of the model which computes the mean-squared error between the input and the target. Similarly, torch.optim package provides various optimization algorithms"
      ],
      "metadata": {
        "id": "FxLehwfSE3Hs"
      }
    },
    {
      "cell_type": "code",
      "source": [
        "loss_function = nn.MSELoss() \n",
        "optimizer = torch.optim.Adam(Model.parameters(), lr=learning_rate)"
      ],
      "metadata": {
        "id": "Gjlj_T_UEqoZ"
      },
      "execution_count": null,
      "outputs": []
    },
    {
      "cell_type": "markdown",
      "source": [
        "### Training Loop\n",
        "\n",
        "Here, we will define the training loop with the following steps:\n",
        "\n",
        "- Forward propagation — compute the predicted y and calculate the current loss\n",
        "- Backward propagation — after each epoch we set the gradients to zero before starting to do backpropagation\n",
        "- Gradient descent — Finally, we will update model parameters by calling optimizer.step() function"
      ],
      "metadata": {
        "id": "u7u7_dy-FB5h"
      }
    },
    {
      "cell_type": "code",
      "source": [
        "losses = []\n",
        "for epoch in range(5000):\n",
        "    pred_y = Model(data_x)\n",
        "    loss = loss_function(pred_y, data_y)\n",
        "    losses.append(loss.item())\n",
        "\n",
        "    Model.zero_grad()\n",
        "    loss.backward()\n",
        "\n",
        "    optimizer.step()"
      ],
      "metadata": {
        "id": "IcvLOjcjFDw7"
      },
      "execution_count": null,
      "outputs": []
    },
    {
      "cell_type": "markdown",
      "source": [
        "### Output\n",
        "\n",
        "We can plot the loss and see how the model is training over each epoch."
      ],
      "metadata": {
        "id": "-kv39KQHFIg6"
      }
    },
    {
      "cell_type": "code",
      "source": [
        "import matplotlib.pyplot as plt\n",
        "plt.plot(losses)\n",
        "plt.ylabel('loss')\n",
        "plt.xlabel('epoch')\n",
        "plt.title(\"Learning rate %f\"%(learning_rate))\n",
        "plt.show()"
      ],
      "metadata": {
        "colab": {
          "base_uri": "https://localhost:8080/",
          "height": 295
        },
        "id": "rMCwSoAFFJ2B",
        "outputId": "ee694b86-2dcf-4851-caf7-e9ef7b153dce"
      },
      "execution_count": null,
      "outputs": [
        {
          "output_type": "display_data",
          "data": {
            "text/plain": [
              "<Figure size 432x288 with 1 Axes>"
            ],
            "image/png": "[encoded data removed]"
          },
          "metadata": {
            "needs_background": "light"
          }
        }
      ]
    },
    {
      "cell_type": "markdown",
      "source": [
        "We can see the loss is decreasing in each epoch which shows that the parameters are being learned.\n",
        "\n",
        "In this tutorial, you learned a step-by-step approach to developing a simple neural network model in PyTorch"
      ],
      "metadata": {
        "id": "NCJ20s-FFSJS"
      }
    },
    {
      "cell_type": "code",
      "source": [
        "torch.manual_seed(1729)\n",
        "X = torch.randn(batch_size, n_input)\n",
        "#print(X)\n",
        "Y_pred = Model(X)\n",
        "print(f\"Predicted y: {Y_pred}\")\n",
        "y_class = Y_pred.argmax()\n",
        "print(f\"Predicted class: {y_class}\")"
      ],
      "metadata": {
        "colab": {
          "base_uri": "https://localhost:8080/"
        },
        "id": "35ZduAjjJLiq",
        "outputId": "11b93387-3630-4bec-d3b4-2f8826c34427"
      },
      "execution_count": null,
      "outputs": [
        {
          "output_type": "stream",
          "name": "stdout",
          "text": [
            "Predicted y: tensor([[2.2170e-01],\n",
            "        [6.9888e-01],\n",
            "        [9.7825e-01],\n",
            "        [9.9999e-01],\n",
            "        [8.2974e-02],\n",
            "        [9.9925e-01],\n",
            "        [9.9888e-01],\n",
            "        [9.9999e-01],\n",
            "        [9.9231e-01],\n",
            "        [9.9987e-01],\n",
            "        [9.9681e-01],\n",
            "        [6.0791e-06],\n",
            "        [4.4389e-03],\n",
            "        [3.3177e-03],\n",
            "        [1.5800e-08],\n",
            "        [5.7545e-03],\n",
            "        [9.9962e-01],\n",
            "        [4.2617e-06],\n",
            "        [9.5150e-01],\n",
            "        [9.7891e-01],\n",
            "        [7.4509e-01],\n",
            "        [9.9240e-01],\n",
            "        [1.0000e+00],\n",
            "        [7.7365e-01],\n",
            "        [6.9146e-01],\n",
            "        [1.0000e+00],\n",
            "        [1.0000e+00],\n",
            "        [9.9999e-01],\n",
            "        [2.0585e-04],\n",
            "        [6.7853e-04],\n",
            "        [1.0512e-03],\n",
            "        [1.0000e+00],\n",
            "        [9.8134e-01],\n",
            "        [9.9996e-01],\n",
            "        [4.1234e-01],\n",
            "        [4.7470e-01],\n",
            "        [7.5892e-03],\n",
            "        [1.0000e+00],\n",
            "        [4.3780e-03],\n",
            "        [8.8298e-01],\n",
            "        [1.0000e+00],\n",
            "        [8.2672e-11],\n",
            "        [6.3793e-01],\n",
            "        [3.9130e-04],\n",
            "        [1.0000e+00],\n",
            "        [9.9627e-01],\n",
            "        [3.5037e-08],\n",
            "        [2.8624e-07],\n",
            "        [8.6654e-01],\n",
            "        [1.0521e-08],\n",
            "        [1.3031e-01],\n",
            "        [1.7591e-05],\n",
            "        [9.1532e-08],\n",
            "        [9.9959e-01],\n",
            "        [9.9977e-01],\n",
            "        [1.7398e-09],\n",
            "        [8.6732e-01],\n",
            "        [9.9991e-01],\n",
            "        [1.2039e-01],\n",
            "        [9.4871e-01],\n",
            "        [9.8359e-01],\n",
            "        [2.0439e-02],\n",
            "        [8.8108e-01],\n",
            "        [1.1783e-02],\n",
            "        [1.0000e+00],\n",
            "        [2.5737e-02],\n",
            "        [9.9996e-01],\n",
            "        [9.1971e-01],\n",
            "        [9.9559e-01],\n",
            "        [1.0000e+00],\n",
            "        [2.9924e-09],\n",
            "        [5.8265e-03],\n",
            "        [3.2965e-02],\n",
            "        [9.8473e-01],\n",
            "        [1.0000e+00],\n",
            "        [1.1790e-09],\n",
            "        [9.0825e-01],\n",
            "        [1.0000e+00],\n",
            "        [3.3508e-02],\n",
            "        [6.8006e-06],\n",
            "        [1.0000e+00],\n",
            "        [2.0962e-01],\n",
            "        [9.6171e-01],\n",
            "        [2.8394e-02],\n",
            "        [1.0000e+00],\n",
            "        [4.4741e-02],\n",
            "        [1.0000e+00],\n",
            "        [3.3137e-02],\n",
            "        [1.9574e-04],\n",
            "        [9.9916e-01],\n",
            "        [3.9048e-03],\n",
            "        [3.3395e-11],\n",
            "        [6.6092e-01],\n",
            "        [1.0000e+00],\n",
            "        [4.0271e-09],\n",
            "        [1.0000e+00],\n",
            "        [9.9849e-01],\n",
            "        [9.9915e-01],\n",
            "        [9.9999e-01],\n",
            "        [3.6183e-02]], grad_fn=<SigmoidBackward0>)\n",
            "Predicted class: 22\n"
          ]
        }
      ]
    },
    {
      "cell_type": "code",
      "source": [],
      "metadata": {
        "id": "TMlGWaAeJY6Q"
      },
      "execution_count": null,
      "outputs": []
    }
  ]
}
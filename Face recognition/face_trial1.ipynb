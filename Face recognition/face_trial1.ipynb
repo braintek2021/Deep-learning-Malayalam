{
 "cells": [
  {
   "cell_type": "code",
   "execution_count": 127,
   "id": "614b89e4",
   "metadata": {},
   "outputs": [],
   "source": [
    "#https://medium.com/@ageitgey/machine-learning-is-fun-part-4-modern-face-recognition-with-deep-learning-c3cffc121d78"
   ]
  },
  {
   "cell_type": "code",
   "execution_count": 128,
   "id": "b605de51",
   "metadata": {},
   "outputs": [],
   "source": [
    "#https://face-recognition.readthedocs.io/en/latest/readme.html"
   ]
  },
  {
   "cell_type": "code",
   "execution_count": 129,
   "id": "c182e549",
   "metadata": {},
   "outputs": [],
   "source": [
    "import face_recognition\n",
    "import cv2\n",
    "import numpy as np"
   ]
  },
  {
   "cell_type": "code",
   "execution_count": 130,
   "id": "8f5cb0fa",
   "metadata": {},
   "outputs": [],
   "source": [
    "path_src =r\"C:\\My Directory\\Knowledge\\CVDL\\OpenCV\\face_rec/lal_source.jpeg\"\n",
    "path_tst=r\"C:\\My Directory\\Knowledge\\CVDL\\OpenCV\\face_rec/lal_test.jpeg\"\n",
    "#path_tst=r\"C:\\My Directory\\Knowledge\\CVDL\\OpenCV\\face_rec/ekka_test.jpg\""
   ]
  },
  {
   "cell_type": "markdown",
   "id": "8b90583f",
   "metadata": {},
   "source": [
    "# LOAD IMAGE"
   ]
  },
  {
   "cell_type": "code",
   "execution_count": 131,
   "id": "33369f52",
   "metadata": {},
   "outputs": [],
   "source": [
    "#img_lal = face_recognition.load_image_file(path_src)\n",
    "#img_lal = cv2.cvtColor(img_lal,cv2.COLOR_BGR2RGB)"
   ]
  },
  {
   "cell_type": "code",
   "execution_count": 132,
   "id": "d6ef4e69",
   "metadata": {},
   "outputs": [],
   "source": [
    "#imgTest = face_recognition.load_image_file(path_tst)\n",
    "#imgTest = cv2.cvtColor(imgTest,cv2.COLOR_BGR2RGB)"
   ]
  },
  {
   "cell_type": "code",
   "execution_count": 133,
   "id": "fed978bf",
   "metadata": {},
   "outputs": [],
   "source": [
    "#cv2.imshow('lal_sorce',img_lal)\n",
    "#cv2.imshow('lal_Test',imgTest)\n",
    "#cv2.waitKey(0)\n",
    "#cv2.destroyAllWindows()"
   ]
  },
  {
   "cell_type": "markdown",
   "id": "a52e3cc8",
   "metadata": {},
   "source": [
    "# REC FACE"
   ]
  },
  {
   "cell_type": "code",
   "execution_count": 134,
   "id": "78287c5b",
   "metadata": {},
   "outputs": [],
   "source": [
    "img_lal = face_recognition.load_image_file(path_src)\n",
    "img_lal = cv2.cvtColor(img_lal,cv2.COLOR_BGR2RGB)"
   ]
  },
  {
   "cell_type": "code",
   "execution_count": 135,
   "id": "1ac454e4",
   "metadata": {},
   "outputs": [
    {
     "name": "stdout",
     "output_type": "stream",
     "text": [
      "(241, 1204, 562, 883)\n"
     ]
    }
   ],
   "source": [
    "faceLoc = face_recognition.face_locations(img_lal)[0]\n",
    "print(faceLoc)"
   ]
  },
  {
   "cell_type": "code",
   "execution_count": 136,
   "id": "1f472ef8",
   "metadata": {},
   "outputs": [
    {
     "data": {
      "text/plain": [
       "array([[[ 74, 103, 108],\n",
       "        [ 73, 102, 107],\n",
       "        [ 73, 102, 107],\n",
       "        ...,\n",
       "        [ 67,  90,  82],\n",
       "        [ 68,  91,  83],\n",
       "        [ 69,  92,  84]],\n",
       "\n",
       "       [[ 74, 103, 108],\n",
       "        [ 74, 103, 108],\n",
       "        [ 73, 102, 107],\n",
       "        ...,\n",
       "        [ 68,  91,  83],\n",
       "        [ 69,  92,  84],\n",
       "        [ 69,  92,  84]],\n",
       "\n",
       "       [[ 75, 104, 109],\n",
       "        [ 75, 104, 109],\n",
       "        [ 74, 103, 108],\n",
       "        ...,\n",
       "        [ 69,  92,  84],\n",
       "        [ 69,  92,  84],\n",
       "        [ 70,  93,  85]],\n",
       "\n",
       "       ...,\n",
       "\n",
       "       [[215, 228, 206],\n",
       "        [215, 228, 206],\n",
       "        [215, 228, 206],\n",
       "        ...,\n",
       "        [ 92, 144, 157],\n",
       "        [ 91, 143, 156],\n",
       "        [ 91, 143, 156]],\n",
       "\n",
       "       [[216, 229, 207],\n",
       "        [216, 229, 207],\n",
       "        [216, 229, 207],\n",
       "        ...,\n",
       "        [ 93, 145, 158],\n",
       "        [ 92, 144, 157],\n",
       "        [ 91, 143, 156]],\n",
       "\n",
       "       [[216, 229, 207],\n",
       "        [216, 229, 207],\n",
       "        [216, 229, 207],\n",
       "        ...,\n",
       "        [ 93, 145, 158],\n",
       "        [ 92, 144, 157],\n",
       "        [ 92, 144, 157]]], dtype=uint8)"
      ]
     },
     "execution_count": 136,
     "metadata": {},
     "output_type": "execute_result"
    }
   ],
   "source": [
    "cv2.rectangle(img_lal,(faceLoc[3],faceLoc[0]),(faceLoc[1],faceLoc[2]),(255,0,255),2)\n",
    "#cv2.imshow('lal_face',img_lal)\n",
    "#cv2.waitKey(0)\n",
    "#cv2.destroyAllWindows()"
   ]
  },
  {
   "cell_type": "code",
   "execution_count": 137,
   "id": "747447f8",
   "metadata": {},
   "outputs": [
    {
     "data": {
      "text/plain": [
       "array([[[255, 255, 255],\n",
       "        [255, 255, 255],\n",
       "        [255, 255, 255],\n",
       "        ...,\n",
       "        [255, 255, 255],\n",
       "        [255, 255, 255],\n",
       "        [255, 255, 255]],\n",
       "\n",
       "       [[255, 255, 255],\n",
       "        [255, 255, 255],\n",
       "        [255, 255, 255],\n",
       "        ...,\n",
       "        [255, 255, 255],\n",
       "        [255, 255, 255],\n",
       "        [255, 255, 255]],\n",
       "\n",
       "       [[255, 255, 255],\n",
       "        [255, 255, 255],\n",
       "        [255, 255, 255],\n",
       "        ...,\n",
       "        [255, 255, 255],\n",
       "        [255, 255, 255],\n",
       "        [255, 255, 255]],\n",
       "\n",
       "       ...,\n",
       "\n",
       "       [[255, 255, 255],\n",
       "        [255, 255, 255],\n",
       "        [255, 255, 255],\n",
       "        ...,\n",
       "        [255, 255, 255],\n",
       "        [255, 255, 255],\n",
       "        [255, 255, 255]],\n",
       "\n",
       "       [[255, 255, 255],\n",
       "        [255, 255, 255],\n",
       "        [255, 255, 255],\n",
       "        ...,\n",
       "        [255, 255, 255],\n",
       "        [255, 255, 255],\n",
       "        [255, 255, 255]],\n",
       "\n",
       "       [[255, 255, 255],\n",
       "        [255, 255, 255],\n",
       "        [255, 255, 255],\n",
       "        ...,\n",
       "        [255, 255, 255],\n",
       "        [255, 255, 255],\n",
       "        [255, 255, 255]]], dtype=uint8)"
      ]
     },
     "execution_count": 137,
     "metadata": {},
     "output_type": "execute_result"
    }
   ],
   "source": [
    "imgTest = face_recognition.load_image_file(path_tst)\n",
    "imgTest = cv2.cvtColor(imgTest,cv2.COLOR_BGR2RGB)\n",
    "faceLocTest = face_recognition.face_locations(imgTest)[0]\n",
    "cv2.rectangle(imgTest,(faceLocTest[3],faceLocTest[0]),(faceLocTest[1],faceLocTest[2]),(255,0,255),2)"
   ]
  },
  {
   "cell_type": "code",
   "execution_count": 138,
   "id": "c1b2e0f5",
   "metadata": {},
   "outputs": [],
   "source": [
    "#cv2.imshow('lal_source',img_lal)\n",
    "#cv2.imshow('lal_Test',imgTest)\n",
    "#cv2.waitKey(0)\n",
    "#cv2.destroyAllWindows()"
   ]
  },
  {
   "cell_type": "markdown",
   "id": "c377f2a8",
   "metadata": {},
   "source": [
    "# ENCODING"
   ]
  },
  {
   "cell_type": "code",
   "execution_count": 139,
   "id": "aeb57348",
   "metadata": {},
   "outputs": [],
   "source": [
    "encode_lal = face_recognition.face_encodings(img_lal)[0]\n",
    "encodeTest = face_recognition.face_encodings(imgTest)[0]"
   ]
  },
  {
   "cell_type": "code",
   "execution_count": 140,
   "id": "195e9c04",
   "metadata": {},
   "outputs": [],
   "source": [
    "#results = face_recognition.compare_faces([encode_lal],encodeTest)\n",
    "#print(results)"
   ]
  },
  {
   "cell_type": "code",
   "execution_count": 141,
   "id": "7c185ad5",
   "metadata": {},
   "outputs": [],
   "source": [
    "#cv2.imshow('lal_sorce',img_lal)\n",
    "#cv2.imshow('ekka_Test',imgTest)\n",
    "#cv2.waitKey(0)\n",
    "#cv2.destroyAllWindows()"
   ]
  },
  {
   "cell_type": "code",
   "execution_count": 142,
   "id": "ac19e300",
   "metadata": {},
   "outputs": [
    {
     "name": "stdout",
     "output_type": "stream",
     "text": [
      "[True] [0.3499955]\n"
     ]
    }
   ],
   "source": [
    "results = face_recognition.compare_faces([encode_lal],encodeTest)\n",
    "faceDis = face_recognition.face_distance([encode_lal],encodeTest)\n",
    "print(results,faceDis)\n",
    "cv2.putText(imgTest,f'{results} {round(faceDis[0],2)}',(50,50),cv2.FONT_HERSHEY_COMPLEX,1,(0,0,255),2)\n",
    " \n",
    "cv2.imshow('lal_sorce',img_lal)\n",
    "cv2.imshow('lal_Test',imgTest)\n",
    "cv2.waitKey(0)\n",
    "cv2.destroyAllWindows()"
   ]
  }
 ],
 "metadata": {
  "kernelspec": {
   "display_name": "Python 3 (ipykernel)",
   "language": "python",
   "name": "python3"
  },
  "language_info": {
   "codemirror_mode": {
    "name": "ipython",
    "version": 3
   },
   "file_extension": ".py",
   "mimetype": "text/x-python",
   "name": "python",
   "nbconvert_exporter": "python",
   "pygments_lexer": "ipython3",
   "version": "3.9.13"
  }
 },
 "nbformat": 4,
 "nbformat_minor": 5
}

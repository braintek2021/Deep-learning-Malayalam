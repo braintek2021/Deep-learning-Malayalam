{
 "cells": [
  {
   "cell_type": "code",
   "execution_count": 1,
   "id": "fd48278b",
   "metadata": {},
   "outputs": [],
   "source": [
    "import cv2\n",
    "import face_recognition\n",
    "import os\n",
    "import numpy as np\n",
    "import time"
   ]
  },
  {
   "cell_type": "code",
   "execution_count": 2,
   "id": "a7948e4f",
   "metadata": {},
   "outputs": [],
   "source": [
    "cur_path=r\"C:\\My Directory\\Knowledge\\CVDL\\OpenCV\\face_rec\\meeting\""
   ]
  },
  {
   "cell_type": "code",
   "execution_count": 3,
   "id": "fdb357be",
   "metadata": {},
   "outputs": [
    {
     "name": "stdout",
     "output_type": "stream",
     "text": [
      "['Andrej_Karpathy.png', 'Elon_Musk.jpg', 'Sreejesh.jpg']\n"
     ]
    }
   ],
   "source": [
    "myList = os.listdir(cur_path)\n",
    "print(myList)"
   ]
  },
  {
   "cell_type": "code",
   "execution_count": 4,
   "id": "158de6c3",
   "metadata": {},
   "outputs": [
    {
     "name": "stdout",
     "output_type": "stream",
     "text": [
      "['Andrej_Karpathy', 'Elon_Musk', 'Sreejesh']\n",
      "3\n"
     ]
    }
   ],
   "source": [
    "Images = []\n",
    "Names = []\n",
    "for cl in myList:\n",
    "    try:\n",
    "        img_path =os.path.join(cur_path, cl)\n",
    "        curImg = cv2.imread(f'{img_path}')\n",
    "        Images.append(curImg)\n",
    "        Names.append(os.path.splitext(cl)[0])\n",
    "    except:\n",
    "        print('could not process')\n",
    "print(Names)\n",
    "print(len(Images))"
   ]
  },
  {
   "cell_type": "code",
   "execution_count": 5,
   "id": "370098cb",
   "metadata": {},
   "outputs": [],
   "source": [
    "def findEncodings(images):\n",
    "    encodeList = []\n",
    "    for img in images:\n",
    "        img = cv2.cvtColor(img, cv2.COLOR_BGR2RGB)\n",
    "        encode = face_recognition.face_encodings(img)[0]\n",
    "        encodeList.append(encode)\n",
    "    return encodeList\n",
    "    \n"
   ]
  },
  {
   "cell_type": "code",
   "execution_count": 6,
   "id": "ee1e0d1e",
   "metadata": {},
   "outputs": [
    {
     "name": "stdout",
     "output_type": "stream",
     "text": [
      "3\n"
     ]
    }
   ],
   "source": [
    "encodeListKnown = findEncodings(Images)\n",
    "print(len(encodeListKnown))"
   ]
  },
  {
   "cell_type": "code",
   "execution_count": 7,
   "id": "0c039072",
   "metadata": {},
   "outputs": [],
   "source": [
    "# video_capture = cv2.VideoCapture(0)\n",
    "\n",
    "# while True:\n",
    "#     # Capture frame-by-frame\n",
    "#     success, img = video_capture.read()\n",
    "#     imgS = cv2.resize(img,(0,0),None,0.25,0.25)\n",
    "#     imgS = cv2.cvtColor(imgS, cv2.COLOR_BGR2RGB)\n",
    "#     facesCurFrame = face_recognition.face_locations(imgS)\n",
    "#     encodesCurFrame = face_recognition.face_encodings(imgS,facesCurFrame)\n",
    "#     for encodeFace,faceLoc in zip(encodesCurFrame,facesCurFrame):\n",
    "#         matches = face_recognition.compare_faces(encodeListKnown,encodeFace)\n",
    "#         faceDis = face_recognition.face_distance(encodeListKnown,encodeFace)\n",
    "#         print(faceDis)"
   ]
  },
  {
   "cell_type": "code",
   "execution_count": 8,
   "id": "e8695efa",
   "metadata": {},
   "outputs": [],
   "source": [
    "# video_capture = cv2.VideoCapture(0)\n",
    "# while True:\n",
    "#     # Capture frame-by-frame\n",
    "#     success, img = video_capture.read()\n",
    "#     imgS = cv2.resize(img,(0,0),None,0.25,0.25)\n",
    "#     imgS = cv2.cvtColor(imgS, cv2.COLOR_BGR2RGB)\n",
    "#     facesCurFrame = face_recognition.face_locations(imgS)\n",
    "#     encodesCurFrame = face_recognition.face_encodings(imgS,facesCurFrame)\n",
    "#     for encodeFace,faceLoc in zip(encodesCurFrame,facesCurFrame):\n",
    "#         matches = face_recognition.compare_faces(encodeListKnown,encodeFace)\n",
    "#         faceDis = face_recognition.face_distance(encodeListKnown,encodeFace)\n",
    "#         matchIndex = np.argmin(faceDis)\n",
    "#     if faceDis[matchIndex]< 0.50:\n",
    "#         name = Names[matchIndex].upper()\n",
    "#         print(name)"
   ]
  },
  {
   "cell_type": "code",
   "execution_count": 9,
   "id": "53613a67",
   "metadata": {},
   "outputs": [
    {
     "ename": "error",
     "evalue": "OpenCV(4.6.0) C:\\b\\abs_74oeeuevib\\croots\\recipe\\opencv-suite_1664548340488\\work\\modules\\imgproc\\src\\resize.cpp:4052: error: (-215:Assertion failed) !ssize.empty() in function 'cv::resize'\n",
     "output_type": "error",
     "traceback": [
      "\u001b[1;31m---------------------------------------------------------------------------\u001b[0m",
      "\u001b[1;31merror\u001b[0m                                     Traceback (most recent call last)",
      "\u001b[1;32m~\\AppData\\Local\\Temp\\ipykernel_12536\\565669311.py\u001b[0m in \u001b[0;36m<module>\u001b[1;34m\u001b[0m\n\u001b[0;32m      4\u001b[0m     \u001b[1;31m# Capture frame-by-frame\u001b[0m\u001b[1;33m\u001b[0m\u001b[1;33m\u001b[0m\u001b[0m\n\u001b[0;32m      5\u001b[0m     \u001b[0msuccess\u001b[0m\u001b[1;33m,\u001b[0m \u001b[0mimg\u001b[0m \u001b[1;33m=\u001b[0m \u001b[0mvideo_capture\u001b[0m\u001b[1;33m.\u001b[0m\u001b[0mread\u001b[0m\u001b[1;33m(\u001b[0m\u001b[1;33m)\u001b[0m\u001b[1;33m\u001b[0m\u001b[1;33m\u001b[0m\u001b[0m\n\u001b[1;32m----> 6\u001b[1;33m     \u001b[0mimgS\u001b[0m \u001b[1;33m=\u001b[0m \u001b[0mcv2\u001b[0m\u001b[1;33m.\u001b[0m\u001b[0mresize\u001b[0m\u001b[1;33m(\u001b[0m\u001b[0mimg\u001b[0m\u001b[1;33m,\u001b[0m\u001b[1;33m(\u001b[0m\u001b[1;36m0\u001b[0m\u001b[1;33m,\u001b[0m\u001b[1;36m0\u001b[0m\u001b[1;33m)\u001b[0m\u001b[1;33m,\u001b[0m\u001b[1;32mNone\u001b[0m\u001b[1;33m,\u001b[0m\u001b[1;36m0.25\u001b[0m\u001b[1;33m,\u001b[0m\u001b[1;36m0.25\u001b[0m\u001b[1;33m)\u001b[0m\u001b[1;33m\u001b[0m\u001b[1;33m\u001b[0m\u001b[0m\n\u001b[0m\u001b[0;32m      7\u001b[0m     \u001b[0mimgS\u001b[0m \u001b[1;33m=\u001b[0m \u001b[0mcv2\u001b[0m\u001b[1;33m.\u001b[0m\u001b[0mcvtColor\u001b[0m\u001b[1;33m(\u001b[0m\u001b[0mimgS\u001b[0m\u001b[1;33m,\u001b[0m \u001b[0mcv2\u001b[0m\u001b[1;33m.\u001b[0m\u001b[0mCOLOR_BGR2RGB\u001b[0m\u001b[1;33m)\u001b[0m\u001b[1;33m\u001b[0m\u001b[1;33m\u001b[0m\u001b[0m\n\u001b[0;32m      8\u001b[0m     \u001b[0mfacesCurFrame\u001b[0m \u001b[1;33m=\u001b[0m \u001b[0mface_recognition\u001b[0m\u001b[1;33m.\u001b[0m\u001b[0mface_locations\u001b[0m\u001b[1;33m(\u001b[0m\u001b[0mimgS\u001b[0m\u001b[1;33m)\u001b[0m\u001b[1;33m\u001b[0m\u001b[1;33m\u001b[0m\u001b[0m\n",
      "\u001b[1;31merror\u001b[0m: OpenCV(4.6.0) C:\\b\\abs_74oeeuevib\\croots\\recipe\\opencv-suite_1664548340488\\work\\modules\\imgproc\\src\\resize.cpp:4052: error: (-215:Assertion failed) !ssize.empty() in function 'cv::resize'\n"
     ]
    }
   ],
   "source": [
    "video_capture = cv2.VideoCapture(0)\n",
    "\n",
    "while True:\n",
    "    # Capture frame-by-frame\n",
    "    success, img = video_capture.read()\n",
    "    imgS = cv2.resize(img,(0,0),None,0.25,0.25)\n",
    "    imgS = cv2.cvtColor(imgS, cv2.COLOR_BGR2RGB)\n",
    "    facesCurFrame = face_recognition.face_locations(imgS)\n",
    "    encodesCurFrame = face_recognition.face_encodings(imgS,facesCurFrame)\n",
    "    for encodeFace,faceLoc in zip(encodesCurFrame,facesCurFrame):\n",
    "        matches = face_recognition.compare_faces(encodeListKnown,encodeFace)\n",
    "        faceDis = face_recognition.face_distance(encodeListKnown,encodeFace)\n",
    "        matchIndex = np.argmin(faceDis)\n",
    "    if faceDis[matchIndex]< 0.50:\n",
    "        name = Names[matchIndex].upper()\n",
    "    else: \n",
    "        name = 'Unknown'\n",
    "    y1,x2,y2,x1 = faceLoc\n",
    "    y1, x2, y2, x1 = y1*4,x2*4,y2*4,x1*4\n",
    "    cv2.rectangle(img,(x1,y1),(x2,y2),(0,255,0),2)\n",
    "    cv2.rectangle(img,(x1,y2-35),(x2,y2),(0,255,0),cv2.FILLED)\n",
    "    cv2.putText(img,name,(x1+6,y2-6),cv2.FONT_HERSHEY_COMPLEX,1,(255,255,255),2)\n",
    "    #cv2.imwrite(os.path.join(os.getcwd(), \"unknown\", str(int(time.time()))+\".png\"), img)\n",
    "    #playsound('Audio.mp3')\n",
    "    cv2.imshow('Webcam',img)\n",
    "    cv2.waitKey(0)\n",
    "    cv2.destroyAllWindows()\n",
    "    # Display the resulting frame"
   ]
  }
 ],
 "metadata": {
  "kernelspec": {
   "display_name": "Python 3 (ipykernel)",
   "language": "python",
   "name": "python3"
  },
  "language_info": {
   "codemirror_mode": {
    "name": "ipython",
    "version": 3
   },
   "file_extension": ".py",
   "mimetype": "text/x-python",
   "name": "python",
   "nbconvert_exporter": "python",
   "pygments_lexer": "ipython3",
   "version": "3.9.13"
  }
 },
 "nbformat": 4,
 "nbformat_minor": 5
}

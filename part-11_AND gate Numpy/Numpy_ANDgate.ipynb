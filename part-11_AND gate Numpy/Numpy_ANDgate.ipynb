{
 "cells": [
  {
   "cell_type": "code",
   "execution_count": 139,
   "id": "c473ba40",
   "metadata": {},
   "outputs": [
    {
     "name": "stdout",
     "output_type": "stream",
     "text": [
      "(4, 2)\n",
      "[[0 0]\n",
      " [0 1]\n",
      " [1 0]\n",
      " [1 1]]\n"
     ]
    }
   ],
   "source": [
    "# Import required libraries:\n",
    "import numpy as np# Define input features:\n",
    "input_features = np.array([[0,0],[0,1],[1,0],[1,1]])\n",
    "print (input_features.shape)\n",
    "print (input_features)"
   ]
  },
  {
   "cell_type": "code",
   "execution_count": 140,
   "id": "bace11d2",
   "metadata": {},
   "outputs": [
    {
     "name": "stdout",
     "output_type": "stream",
     "text": [
      "(4, 1)\n"
     ]
    }
   ],
   "source": [
    "# Define target output:\n",
    "target_output = np.array([[0,0,0,1]])# Reshaping our target output into vector:\n",
    "y = target_output.reshape(4,1)\n",
    "print(y.shape)"
   ]
  },
  {
   "cell_type": "code",
   "execution_count": 141,
   "id": "8e62e2c1",
   "metadata": {},
   "outputs": [
    {
     "name": "stdout",
     "output_type": "stream",
     "text": [
      "[[0 0 0 1]]\n",
      "(2, 1)\n",
      "[[0.1]\n",
      " [0.2]]\n"
     ]
    }
   ],
   "source": [
    "print (target_output)# Define weights:\n",
    "W = np.array([[0.1],[0.2]])\n",
    "print(W.shape)\n",
    "print (W)"
   ]
  },
  {
   "cell_type": "code",
   "execution_count": 142,
   "id": "aec12d07",
   "metadata": {},
   "outputs": [],
   "source": [
    "b = 0.3# Bias weight:\n",
    "lr = 0.05# Learning Rate:"
   ]
  },
  {
   "cell_type": "code",
   "execution_count": 143,
   "id": "ca0212aa",
   "metadata": {},
   "outputs": [],
   "source": [
    "#Sigmoid Function\n",
    "def sigmoid(x):\n",
    "    return 1/(1+np.exp(-x))# Derivative of sigmoid function:\n",
    "def sigmoid_der(x):\n",
    "    return sigmoid(x)*(1-sigmoid(x))# Main logic for neural network:"
   ]
  },
  {
   "cell_type": "code",
   "execution_count": 144,
   "id": "0912779b",
   "metadata": {},
   "outputs": [
    {
     "name": "stdout",
     "output_type": "stream",
     "text": [
      "[[0.3]\n",
      " [0.5]\n",
      " [0.4]\n",
      " [0.6]]\n",
      "[[0.57444252]\n",
      " [0.62245933]\n",
      " [0.59868766]\n",
      " [0.64565631]]\n"
     ]
    }
   ],
   "source": [
    "# Running our code 10000 times:for epoch in range(10000):\n",
    "X = input_features#Feedforward input:\n",
    "Z = np.dot(X, W) + b #Feedforward output:\n",
    "print(Z)\n",
    "a = sigmoid(Z) #Backpropogation\n",
    "print(a)"
   ]
  },
  {
   "cell_type": "code",
   "execution_count": 145,
   "id": "43fc1011",
   "metadata": {},
   "outputs": [
    {
     "name": "stdout",
     "output_type": "stream",
     "text": [
      "0.6007130959048217\n"
     ]
    }
   ],
   "source": [
    "#Calculating error\n",
    "error = (a - y)\n",
    "error_sqr = (a - y)**2\n",
    "#Going with the formula:\n",
    "C = 0.5*(error_sqr.sum())\n",
    "print(C)"
   ]
  },
  {
   "cell_type": "code",
   "execution_count": 146,
   "id": "664c0f9d",
   "metadata": {},
   "outputs": [
    {
     "name": "stdout",
     "output_type": "stream",
     "text": [
      "[[ 0.57444252]\n",
      " [ 0.62245933]\n",
      " [ 0.59868766]\n",
      " [-0.35434369]]\n",
      "(4, 1)\n",
      "[[0.24445831]\n",
      " [0.23500371]\n",
      " [0.24026075]\n",
      " [0.22878424]]\n",
      "(4, 1)\n"
     ]
    }
   ],
   "source": [
    "#Calculating derivative:\n",
    "dC_da= error\n",
    "print(dC_da)\n",
    "print(dC_da.shape)\n",
    "da_dZ = sigmoid_der(Z)\n",
    "print(da_dZ)\n",
    "print(da_dZ.shape)"
   ]
  },
  {
   "cell_type": "markdown",
   "id": "eec0061f",
   "metadata": {},
   "source": [
    "size od dC_da & da_dZ matrix are 4,1\n",
    "size ow weight matrix = 2,1\n",
    "multiplication matrix size= (2,4)*(4,1)= (2,1)"
   ]
  },
  {
   "cell_type": "code",
   "execution_count": 147,
   "id": "1a3fb0d9",
   "metadata": {
    "scrolled": true
   },
   "outputs": [
    {
     "name": "stdout",
     "output_type": "stream",
     "text": [
      "[[ 0.14042725]\n",
      " [ 0.14628025]\n",
      " [ 0.14384114]\n",
      " [-0.08106825]]\n",
      "[[0 0 1 1]\n",
      " [0 1 0 1]]\n",
      "(2, 4)\n",
      "[[0.06277289]\n",
      " [0.065212  ]]\n",
      "(2, 1)\n"
     ]
    }
   ],
   "source": [
    "#Multiplying individual derivatives:\n",
    "deriv = dC_da * da_dZ #Multiplying with the 3rd individual derivative:\n",
    "print(deriv)\n",
    "#Finding the transpose of input_features:\n",
    "dZ_dw = input_features.T\n",
    "print(dZ_dw)\n",
    "print(dZ_dw.shape)\n",
    "dC_dw = np.dot(dZ_dw,deriv)\n",
    "print(dC_dw)\n",
    "print(dC_dw.shape)"
   ]
  },
  {
   "cell_type": "code",
   "execution_count": 148,
   "id": "4899f338",
   "metadata": {},
   "outputs": [
    {
     "name": "stdout",
     "output_type": "stream",
     "text": [
      "[[0.09686136]\n",
      " [0.1967394 ]]\n",
      "(2, 1)\n"
     ]
    }
   ],
   "source": [
    "#Updating the weights values:\n",
    "W -= lr * dC_dw #Updating the bias weight value:\n",
    "print(W)\n",
    "print(W.shape)\n",
    "for i in deriv:\n",
    "    bias -= lr * i #Check the final values for weight and biasprint (weights)\n"
   ]
  },
  {
   "cell_type": "code",
   "execution_count": 152,
   "id": "dd5b23c8",
   "metadata": {},
   "outputs": [
    {
     "name": "stdout",
     "output_type": "stream",
     "text": [
      "[0.23103229]\n",
      "[0.58062168]\n",
      "[0.62695495]\n",
      "[0.55750253]\n"
     ]
    }
   ],
   "source": [
    "single_point = np.array([1,0]) #1st step:\n",
    "result1 = np.dot(single_point, weights) + bias #2nd step:\n",
    "result2 = sigmoid(result1) #Print final result\n",
    "print(result2) #Taking inputs:\n",
    "single_point = np.array([1,1]) #1st step:\n",
    "result1 = np.dot(single_point, weights) + bias #2nd step:\n",
    "result2 = sigmoid(result1) #Print final result\n",
    "print(result2) #Taking inputs:\n",
    "single_point = np.array([0,0]) #1st step:\n",
    "result1 = np.dot(single_point, weights) + bias #2nd step:\n",
    "result2 = sigmoid(result1) #Print final result\n",
    "print(result2)"
   ]
  },
  {
   "cell_type": "code",
   "execution_count": 150,
   "id": "5b479bba",
   "metadata": {},
   "outputs": [],
   "source": []
  }
 ],
 "metadata": {
  "kernelspec": {
   "display_name": "Python 3 (ipykernel)",
   "language": "python",
   "name": "python3"
  },
  "language_info": {
   "codemirror_mode": {
    "name": "ipython",
    "version": 3
   },
   "file_extension": ".py",
   "mimetype": "text/x-python",
   "name": "python",
   "nbconvert_exporter": "python",
   "pygments_lexer": "ipython3",
   "version": "3.9.13"
  }
 },
 "nbformat": 4,
 "nbformat_minor": 5
}
